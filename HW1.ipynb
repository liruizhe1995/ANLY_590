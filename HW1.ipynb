{
  "nbformat": 4,
  "nbformat_minor": 0,
  "metadata": {
    "colab": {
      "name": "HW1.ipynb",
      "provenance": []
    },
    "kernelspec": {
      "name": "python3",
      "display_name": "Python 3"
    }
  },
  "cells": [
    {
      "cell_type": "markdown",
      "metadata": {
        "id": "Dg9wSJtyKsHm",
        "colab_type": "text"
      },
      "source": [
        "ANLY-590 Assignment 1\n",
        "\n",
        "Ruizhe Li"
      ]
    },
    {
      "cell_type": "code",
      "metadata": {
        "id": "2WJGrV-XQJ-G",
        "colab_type": "code",
        "colab": {}
      },
      "source": [
        "import pandas as pd\n",
        "import numpy as np\n",
        "import matplotlib.pyplot as plt\n",
        "from sklearn.linear_model import Lasso, LassoCV, Ridge, RidgeCV\n",
        "from sklearn.model_selection import train_test_split\n",
        "from sklearn.metrics import mean_squared_error"
      ],
      "execution_count": 1,
      "outputs": []
    },
    {
      "cell_type": "code",
      "metadata": {
        "id": "U4X2mwr0W05o",
        "colab_type": "code",
        "colab": {}
      },
      "source": [
        "df = pd.read_csv('Hitters.csv')"
      ],
      "execution_count": 2,
      "outputs": []
    },
    {
      "cell_type": "markdown",
      "metadata": {
        "id": "khAKiodmKINj",
        "colab_type": "text"
      },
      "source": [
        "## Data Cleaning"
      ]
    },
    {
      "cell_type": "code",
      "metadata": {
        "id": "3dU5y2HLXSOD",
        "colab_type": "code",
        "colab": {
          "base_uri": "https://localhost:8080/",
          "height": 326
        },
        "outputId": "b7041cb3-4879-4431-d71a-99c8bf728f11"
      },
      "source": [
        "df.head()"
      ],
      "execution_count": 3,
      "outputs": [
        {
          "output_type": "execute_result",
          "data": {
            "text/html": [
              "<div>\n",
              "<style scoped>\n",
              "    .dataframe tbody tr th:only-of-type {\n",
              "        vertical-align: middle;\n",
              "    }\n",
              "\n",
              "    .dataframe tbody tr th {\n",
              "        vertical-align: top;\n",
              "    }\n",
              "\n",
              "    .dataframe thead th {\n",
              "        text-align: right;\n",
              "    }\n",
              "</style>\n",
              "<table border=\"1\" class=\"dataframe\">\n",
              "  <thead>\n",
              "    <tr style=\"text-align: right;\">\n",
              "      <th></th>\n",
              "      <th>Unnamed: 0</th>\n",
              "      <th>AtBat</th>\n",
              "      <th>Hits</th>\n",
              "      <th>HmRun</th>\n",
              "      <th>Runs</th>\n",
              "      <th>RBI</th>\n",
              "      <th>Walks</th>\n",
              "      <th>Years</th>\n",
              "      <th>CAtBat</th>\n",
              "      <th>CHits</th>\n",
              "      <th>CHmRun</th>\n",
              "      <th>CRuns</th>\n",
              "      <th>CRBI</th>\n",
              "      <th>CWalks</th>\n",
              "      <th>League</th>\n",
              "      <th>Division</th>\n",
              "      <th>PutOuts</th>\n",
              "      <th>Assists</th>\n",
              "      <th>Errors</th>\n",
              "      <th>Salary</th>\n",
              "      <th>NewLeague</th>\n",
              "    </tr>\n",
              "  </thead>\n",
              "  <tbody>\n",
              "    <tr>\n",
              "      <th>0</th>\n",
              "      <td>-Andy Allanson</td>\n",
              "      <td>293</td>\n",
              "      <td>66</td>\n",
              "      <td>1</td>\n",
              "      <td>30</td>\n",
              "      <td>29</td>\n",
              "      <td>14</td>\n",
              "      <td>1</td>\n",
              "      <td>293</td>\n",
              "      <td>66</td>\n",
              "      <td>1</td>\n",
              "      <td>30</td>\n",
              "      <td>29</td>\n",
              "      <td>14</td>\n",
              "      <td>A</td>\n",
              "      <td>E</td>\n",
              "      <td>446</td>\n",
              "      <td>33</td>\n",
              "      <td>20</td>\n",
              "      <td>NaN</td>\n",
              "      <td>A</td>\n",
              "    </tr>\n",
              "    <tr>\n",
              "      <th>1</th>\n",
              "      <td>-Alan Ashby</td>\n",
              "      <td>315</td>\n",
              "      <td>81</td>\n",
              "      <td>7</td>\n",
              "      <td>24</td>\n",
              "      <td>38</td>\n",
              "      <td>39</td>\n",
              "      <td>14</td>\n",
              "      <td>3449</td>\n",
              "      <td>835</td>\n",
              "      <td>69</td>\n",
              "      <td>321</td>\n",
              "      <td>414</td>\n",
              "      <td>375</td>\n",
              "      <td>N</td>\n",
              "      <td>W</td>\n",
              "      <td>632</td>\n",
              "      <td>43</td>\n",
              "      <td>10</td>\n",
              "      <td>475.0</td>\n",
              "      <td>N</td>\n",
              "    </tr>\n",
              "    <tr>\n",
              "      <th>2</th>\n",
              "      <td>-Alvin Davis</td>\n",
              "      <td>479</td>\n",
              "      <td>130</td>\n",
              "      <td>18</td>\n",
              "      <td>66</td>\n",
              "      <td>72</td>\n",
              "      <td>76</td>\n",
              "      <td>3</td>\n",
              "      <td>1624</td>\n",
              "      <td>457</td>\n",
              "      <td>63</td>\n",
              "      <td>224</td>\n",
              "      <td>266</td>\n",
              "      <td>263</td>\n",
              "      <td>A</td>\n",
              "      <td>W</td>\n",
              "      <td>880</td>\n",
              "      <td>82</td>\n",
              "      <td>14</td>\n",
              "      <td>480.0</td>\n",
              "      <td>A</td>\n",
              "    </tr>\n",
              "    <tr>\n",
              "      <th>3</th>\n",
              "      <td>-Andre Dawson</td>\n",
              "      <td>496</td>\n",
              "      <td>141</td>\n",
              "      <td>20</td>\n",
              "      <td>65</td>\n",
              "      <td>78</td>\n",
              "      <td>37</td>\n",
              "      <td>11</td>\n",
              "      <td>5628</td>\n",
              "      <td>1575</td>\n",
              "      <td>225</td>\n",
              "      <td>828</td>\n",
              "      <td>838</td>\n",
              "      <td>354</td>\n",
              "      <td>N</td>\n",
              "      <td>E</td>\n",
              "      <td>200</td>\n",
              "      <td>11</td>\n",
              "      <td>3</td>\n",
              "      <td>500.0</td>\n",
              "      <td>N</td>\n",
              "    </tr>\n",
              "    <tr>\n",
              "      <th>4</th>\n",
              "      <td>-Andres Galarraga</td>\n",
              "      <td>321</td>\n",
              "      <td>87</td>\n",
              "      <td>10</td>\n",
              "      <td>39</td>\n",
              "      <td>42</td>\n",
              "      <td>30</td>\n",
              "      <td>2</td>\n",
              "      <td>396</td>\n",
              "      <td>101</td>\n",
              "      <td>12</td>\n",
              "      <td>48</td>\n",
              "      <td>46</td>\n",
              "      <td>33</td>\n",
              "      <td>N</td>\n",
              "      <td>E</td>\n",
              "      <td>805</td>\n",
              "      <td>40</td>\n",
              "      <td>4</td>\n",
              "      <td>91.5</td>\n",
              "      <td>N</td>\n",
              "    </tr>\n",
              "  </tbody>\n",
              "</table>\n",
              "</div>"
            ],
            "text/plain": [
              "          Unnamed: 0  AtBat  Hits  HmRun  ...  Assists  Errors  Salary  NewLeague\n",
              "0     -Andy Allanson    293    66      1  ...       33      20     NaN          A\n",
              "1        -Alan Ashby    315    81      7  ...       43      10   475.0          N\n",
              "2       -Alvin Davis    479   130     18  ...       82      14   480.0          A\n",
              "3      -Andre Dawson    496   141     20  ...       11       3   500.0          N\n",
              "4  -Andres Galarraga    321    87     10  ...       40       4    91.5          N\n",
              "\n",
              "[5 rows x 21 columns]"
            ]
          },
          "metadata": {
            "tags": []
          },
          "execution_count": 3
        }
      ]
    },
    {
      "cell_type": "code",
      "metadata": {
        "id": "1d2Eut6IXTSt",
        "colab_type": "code",
        "colab": {
          "base_uri": "https://localhost:8080/",
          "height": 391
        },
        "outputId": "3f972505-584e-4299-f8e9-b208ca8a0b3d"
      },
      "source": [
        "df.isna().sum()"
      ],
      "execution_count": 4,
      "outputs": [
        {
          "output_type": "execute_result",
          "data": {
            "text/plain": [
              "Unnamed: 0     0\n",
              "AtBat          0\n",
              "Hits           0\n",
              "HmRun          0\n",
              "Runs           0\n",
              "RBI            0\n",
              "Walks          0\n",
              "Years          0\n",
              "CAtBat         0\n",
              "CHits          0\n",
              "CHmRun         0\n",
              "CRuns          0\n",
              "CRBI           0\n",
              "CWalks         0\n",
              "League         0\n",
              "Division       0\n",
              "PutOuts        0\n",
              "Assists        0\n",
              "Errors         0\n",
              "Salary        59\n",
              "NewLeague      0\n",
              "dtype: int64"
            ]
          },
          "metadata": {
            "tags": []
          },
          "execution_count": 4
        }
      ]
    },
    {
      "cell_type": "code",
      "metadata": {
        "id": "OKOOGRS3XvzM",
        "colab_type": "code",
        "colab": {}
      },
      "source": [
        "df = df.dropna()"
      ],
      "execution_count": 5,
      "outputs": []
    },
    {
      "cell_type": "code",
      "metadata": {
        "id": "SkB2jA-NYCVW",
        "colab_type": "code",
        "colab": {
          "base_uri": "https://localhost:8080/",
          "height": 391
        },
        "outputId": "0fc0e39f-fea7-4b2d-fd19-c912b4a81fd0"
      },
      "source": [
        "df.isna().sum()"
      ],
      "execution_count": 6,
      "outputs": [
        {
          "output_type": "execute_result",
          "data": {
            "text/plain": [
              "Unnamed: 0    0\n",
              "AtBat         0\n",
              "Hits          0\n",
              "HmRun         0\n",
              "Runs          0\n",
              "RBI           0\n",
              "Walks         0\n",
              "Years         0\n",
              "CAtBat        0\n",
              "CHits         0\n",
              "CHmRun        0\n",
              "CRuns         0\n",
              "CRBI          0\n",
              "CWalks        0\n",
              "League        0\n",
              "Division      0\n",
              "PutOuts       0\n",
              "Assists       0\n",
              "Errors        0\n",
              "Salary        0\n",
              "NewLeague     0\n",
              "dtype: int64"
            ]
          },
          "metadata": {
            "tags": []
          },
          "execution_count": 6
        }
      ]
    },
    {
      "cell_type": "code",
      "metadata": {
        "id": "EWRS46GKYDv1",
        "colab_type": "code",
        "colab": {
          "base_uri": "https://localhost:8080/",
          "height": 493
        },
        "outputId": "bc3f7bdf-c798-4737-c233-b35a0ba71282"
      },
      "source": [
        "df.info()"
      ],
      "execution_count": 7,
      "outputs": [
        {
          "output_type": "stream",
          "text": [
            "<class 'pandas.core.frame.DataFrame'>\n",
            "Int64Index: 263 entries, 1 to 321\n",
            "Data columns (total 21 columns):\n",
            " #   Column      Non-Null Count  Dtype  \n",
            "---  ------      --------------  -----  \n",
            " 0   Unnamed: 0  263 non-null    object \n",
            " 1   AtBat       263 non-null    int64  \n",
            " 2   Hits        263 non-null    int64  \n",
            " 3   HmRun       263 non-null    int64  \n",
            " 4   Runs        263 non-null    int64  \n",
            " 5   RBI         263 non-null    int64  \n",
            " 6   Walks       263 non-null    int64  \n",
            " 7   Years       263 non-null    int64  \n",
            " 8   CAtBat      263 non-null    int64  \n",
            " 9   CHits       263 non-null    int64  \n",
            " 10  CHmRun      263 non-null    int64  \n",
            " 11  CRuns       263 non-null    int64  \n",
            " 12  CRBI        263 non-null    int64  \n",
            " 13  CWalks      263 non-null    int64  \n",
            " 14  League      263 non-null    object \n",
            " 15  Division    263 non-null    object \n",
            " 16  PutOuts     263 non-null    int64  \n",
            " 17  Assists     263 non-null    int64  \n",
            " 18  Errors      263 non-null    int64  \n",
            " 19  Salary      263 non-null    float64\n",
            " 20  NewLeague   263 non-null    object \n",
            "dtypes: float64(1), int64(16), object(4)\n",
            "memory usage: 45.2+ KB\n"
          ],
          "name": "stdout"
        }
      ]
    },
    {
      "cell_type": "code",
      "metadata": {
        "id": "F3EBgYXtYO6y",
        "colab_type": "code",
        "colab": {}
      },
      "source": [
        "df = df.select_dtypes(include=np.number)"
      ],
      "execution_count": 8,
      "outputs": []
    },
    {
      "cell_type": "code",
      "metadata": {
        "id": "SvThmFScZPEx",
        "colab_type": "code",
        "colab": {
          "base_uri": "https://localhost:8080/",
          "height": 425
        },
        "outputId": "baf2ccd1-4093-4fc5-b444-41279a11c764"
      },
      "source": [
        "df.info()"
      ],
      "execution_count": 9,
      "outputs": [
        {
          "output_type": "stream",
          "text": [
            "<class 'pandas.core.frame.DataFrame'>\n",
            "Int64Index: 263 entries, 1 to 321\n",
            "Data columns (total 17 columns):\n",
            " #   Column   Non-Null Count  Dtype  \n",
            "---  ------   --------------  -----  \n",
            " 0   AtBat    263 non-null    int64  \n",
            " 1   Hits     263 non-null    int64  \n",
            " 2   HmRun    263 non-null    int64  \n",
            " 3   Runs     263 non-null    int64  \n",
            " 4   RBI      263 non-null    int64  \n",
            " 5   Walks    263 non-null    int64  \n",
            " 6   Years    263 non-null    int64  \n",
            " 7   CAtBat   263 non-null    int64  \n",
            " 8   CHits    263 non-null    int64  \n",
            " 9   CHmRun   263 non-null    int64  \n",
            " 10  CRuns    263 non-null    int64  \n",
            " 11  CRBI     263 non-null    int64  \n",
            " 12  CWalks   263 non-null    int64  \n",
            " 13  PutOuts  263 non-null    int64  \n",
            " 14  Assists  263 non-null    int64  \n",
            " 15  Errors   263 non-null    int64  \n",
            " 16  Salary   263 non-null    float64\n",
            "dtypes: float64(1), int64(16)\n",
            "memory usage: 37.0 KB\n"
          ],
          "name": "stdout"
        }
      ]
    },
    {
      "cell_type": "markdown",
      "metadata": {
        "id": "WaL9i1_tKP97",
        "colab_type": "text"
      },
      "source": [
        "## LASSO Regression"
      ]
    },
    {
      "cell_type": "code",
      "metadata": {
        "id": "5IG4SPvYZQot",
        "colab_type": "code",
        "colab": {
          "base_uri": "https://localhost:8080/",
          "height": 408
        },
        "outputId": "dd612ad9-651a-4daf-f44e-182a3cfa8b93"
      },
      "source": [
        "y = df.Salary\n",
        "X = df.drop('Salary', axis = 1).astype('float64')\n",
        "X.info()"
      ],
      "execution_count": 10,
      "outputs": [
        {
          "output_type": "stream",
          "text": [
            "<class 'pandas.core.frame.DataFrame'>\n",
            "Int64Index: 263 entries, 1 to 321\n",
            "Data columns (total 16 columns):\n",
            " #   Column   Non-Null Count  Dtype  \n",
            "---  ------   --------------  -----  \n",
            " 0   AtBat    263 non-null    float64\n",
            " 1   Hits     263 non-null    float64\n",
            " 2   HmRun    263 non-null    float64\n",
            " 3   Runs     263 non-null    float64\n",
            " 4   RBI      263 non-null    float64\n",
            " 5   Walks    263 non-null    float64\n",
            " 6   Years    263 non-null    float64\n",
            " 7   CAtBat   263 non-null    float64\n",
            " 8   CHits    263 non-null    float64\n",
            " 9   CHmRun   263 non-null    float64\n",
            " 10  CRuns    263 non-null    float64\n",
            " 11  CRBI     263 non-null    float64\n",
            " 12  CWalks   263 non-null    float64\n",
            " 13  PutOuts  263 non-null    float64\n",
            " 14  Assists  263 non-null    float64\n",
            " 15  Errors   263 non-null    float64\n",
            "dtypes: float64(16)\n",
            "memory usage: 34.9 KB\n"
          ],
          "name": "stdout"
        }
      ]
    },
    {
      "cell_type": "code",
      "metadata": {
        "id": "CNBwDdw0cDCb",
        "colab_type": "code",
        "colab": {
          "base_uri": "https://localhost:8080/",
          "height": 867
        },
        "outputId": "8190e280-29a9-47ab-8d0d-35aeaeeb3304"
      },
      "source": [
        "alphas = 10**np.linspace(10, -2, 200)*0.8\n",
        "alphas"
      ],
      "execution_count": 11,
      "outputs": [
        {
          "output_type": "execute_result",
          "data": {
            "text/plain": [
              "array([8.00000000e+09, 6.96287309e+09, 6.06020021e+09, 5.27455062e+09,\n",
              "       4.59075332e+09, 3.99560409e+09, 3.47761053e+09, 3.02677009e+09,\n",
              "       2.63437700e+09, 2.29285409e+09, 1.99560651e+09, 1.73689436e+09,\n",
              "       1.51172187e+09, 1.31574094e+09, 1.14516715e+09, 9.96706691e+08,\n",
              "       8.67492775e+08, 7.55030262e+08, 6.57147487e+08, 5.71954319e+08,\n",
              "       4.97805667e+08, 4.33269710e+08, 3.77100251e+08, 3.28212648e+08,\n",
              "       2.85662877e+08, 2.48629295e+08, 2.16396778e+08, 1.88342913e+08,\n",
              "       1.63925975e+08, 1.42674470e+08, 1.24178029e+08, 1.08079482e+08,\n",
              "       9.40679643e+07, 8.18729122e+07, 7.12588371e+07, 6.20207799e+07,\n",
              "       5.39803524e+07, 4.69822929e+07, 4.08914679e+07, 3.55902626e+07,\n",
              "       3.09763103e+07, 2.69605146e+07, 2.34653302e+07, 2.04232645e+07,\n",
              "       1.77755749e+07, 1.54711340e+07, 1.34654428e+07, 1.17197712e+07,\n",
              "       1.02004099e+07, 8.87801997e+06, 7.72706579e+06, 6.72532231e+06,\n",
              "       5.85344571e+06, 5.09459996e+06, 4.43413162e+06, 3.85928696e+06,\n",
              "       3.35896567e+06, 2.92350646e+06, 2.54450055e+06, 2.21462930e+06,\n",
              "       1.92752285e+06, 1.67763712e+06, 1.46014680e+06, 1.27085210e+06,\n",
              "       1.10609774e+06, 9.62702273e+05, 8.37896718e+05, 7.29271064e+05,\n",
              "       6.34727733e+05, 5.52441082e+05, 4.80822143e+05, 4.18487945e+05,\n",
              "       3.64234806e+05, 3.17015091e+05, 2.75916981e+05, 2.40146865e+05,\n",
              "       2.09014018e+05, 1.81917260e+05, 1.58333349e+05, 1.37806877e+05,\n",
              "       1.19941475e+05, 1.04392158e+05, 9.08586687e+04, 7.90796724e+04,\n",
              "       6.88277153e+04, 5.99048309e+04, 5.21387168e+04, 4.53794085e+04,\n",
              "       3.94963828e+04, 3.43760376e+04, 2.99194984e+04, 2.60407088e+04,\n",
              "       2.26647688e+04, 1.97264886e+04, 1.71691296e+04, 1.49433088e+04,\n",
              "       1.30060453e+04, 1.13199304e+04, 9.85240483e+03, 8.57513055e+03,\n",
              "       7.46344322e+03, 6.49587599e+03, 5.65374502e+03, 4.92078863e+03,\n",
              "       4.28285334e+03, 3.72762053e+03, 3.24436859e+03, 2.82376584e+03,\n",
              "       2.45769040e+03, 2.13907329e+03, 1.86176198e+03, 1.62040155e+03,\n",
              "       1.41033129e+03, 1.22749473e+03, 1.06836125e+03, 9.29857975e+02,\n",
              "       8.09310384e+02, 7.04390687e+02, 6.13072869e+02, 5.33593573e+02,\n",
              "       4.64418041e+02, 4.04210485e+02, 3.51808289e+02, 3.06199558e+02,\n",
              "       2.66503583e+02, 2.31953828e+02, 2.01883134e+02, 1.75710830e+02,\n",
              "       1.52931526e+02, 1.33105351e+02, 1.15849458e+02, 1.00830634e+02,\n",
              "       8.77588638e+01, 7.63817289e+01, 6.64795356e+01, 5.78610712e+01,\n",
              "       5.03599119e+01, 4.38312094e+01, 3.81488936e+01, 3.32032381e+01,\n",
              "       2.88987416e+01, 2.51522838e+01, 2.18915200e+01, 1.90534844e+01,\n",
              "       1.65833742e+01, 1.44334913e+01, 1.25623210e+01, 1.09337309e+01,\n",
              "       9.51627254e+00, 8.28257475e+00, 7.20881460e+00, 6.27425765e+00,\n",
              "       5.46085747e+00, 4.75290719e+00, 4.13673619e+00, 3.60044614e+00,\n",
              "       3.13368119e+00, 2.72742806e+00, 2.37384193e+00, 2.06609501e+00,\n",
              "       1.79824467e+00, 1.56511867e+00, 1.36221534e+00, 1.18561656e+00,\n",
              "       1.03191221e+00, 8.98134219e-01, 7.81699323e-01, 6.80359147e-01,\n",
              "       5.92156800e-01, 5.15389081e-01, 4.48573595e-01, 3.90420127e-01,\n",
              "       3.39805724e-01, 2.95753017e-01, 2.57411340e-01, 2.24040312e-01,\n",
              "       1.94995532e-01, 1.69716143e-01, 1.47713995e-01, 1.28564225e-01,\n",
              "       1.11897048e-01, 9.73906182e-02, 8.47648143e-02, 7.37758306e-02,\n",
              "       6.42114682e-02, 5.58870380e-02, 4.86417941e-02, 4.23358299e-02,\n",
              "       3.68473763e-02, 3.20704506e-02, 2.79128097e-02, 2.42941689e-02,\n",
              "       2.11446519e-02, 1.84034410e-02, 1.60176030e-02, 1.39410671e-02,\n",
              "       1.21337351e-02, 1.05607072e-02, 9.19160800e-03, 8.00000000e-03])"
            ]
          },
          "metadata": {
            "tags": []
          },
          "execution_count": 11
        }
      ]
    },
    {
      "cell_type": "code",
      "metadata": {
        "id": "KekLIyACcmN_",
        "colab_type": "code",
        "colab": {
          "base_uri": "https://localhost:8080/",
          "height": 316
        },
        "outputId": "782bceaf-28ae-43d6-d044-0b267b996972"
      },
      "source": [
        "lasso = Lasso(max_iter = 10000, normalize = True)\n",
        "coefs = []\n",
        "\n",
        "for a in alphas:\n",
        "  lasso.set_params(alpha = a)\n",
        "  lasso.fit(X, y)\n",
        "  coefs.append(lasso.coef_)\n",
        "\n",
        "ax = plt.gca()\n",
        "ax.plot(alphas, coefs)\n",
        "ax.set_xscale('log')\n",
        "plt.axis('tight')\n",
        "plt.xlabel('alpha')\n",
        "plt.ylabel('weights')\n",
        "plt.title(\"Coefficient Trajectories in LASSO\")"
      ],
      "execution_count": 12,
      "outputs": [
        {
          "output_type": "execute_result",
          "data": {
            "text/plain": [
              "Text(0.5, 1.0, 'Coefficient Trajectories in LASSO')"
            ]
          },
          "metadata": {
            "tags": []
          },
          "execution_count": 12
        },
        {
          "output_type": "display_data",
          "data": {
            "image/png": "[encoded data removed]",
            "text/plain": [
              "<Figure size 432x288 with 1 Axes>"
            ]
          },
          "metadata": {
            "tags": [],
            "needs_background": "light"
          }
        }
      ]
    },
    {
      "cell_type": "code",
      "metadata": {
        "id": "WiTNUDk2c-nb",
        "colab_type": "code",
        "colab": {
          "base_uri": "https://localhost:8080/",
          "height": 34
        },
        "outputId": "cece7a89-4ff1-485d-895d-231506bbbc88"
      },
      "source": [
        "c = []\n",
        "for coef in coefs:\n",
        "  c.append(len([x for x in coef if x > 0]))\n",
        "\n",
        "# Get the index in coefs where only 3 coefficients not zero\n",
        "idx = c.index(3)\n",
        "\n",
        "coefs_3 = coefs[idx]\n",
        "\n",
        "colnames = X.columns.values.tolist()\n",
        "\n",
        "colnames = [colnames[i] for i in range(len(colnames)) if coefs_3[i] > 0]\n",
        "\n",
        "colnames"
      ],
      "execution_count": 13,
      "outputs": [
        {
          "output_type": "execute_result",
          "data": {
            "text/plain": [
              "['Hits', 'CRuns', 'CRBI']"
            ]
          },
          "metadata": {
            "tags": []
          },
          "execution_count": 13
        }
      ]
    },
    {
      "cell_type": "markdown",
      "metadata": {
        "id": "kLaVVnCdJpe7",
        "colab_type": "text"
      },
      "source": [
        "The final three predictors that remain in the model are ['Hits', 'CRuns', 'CRBI']."
      ]
    },
    {
      "cell_type": "code",
      "metadata": {
        "id": "K-j8JRRsIL-W",
        "colab_type": "code",
        "colab": {
          "base_uri": "https://localhost:8080/",
          "height": 68
        },
        "outputId": "82196915-1231-4ee6-f3fc-4a1727a182f5"
      },
      "source": [
        "X_train, X_test, y_train, y_test = train_test_split(X, y, test_size = 0.5, random_state=1)\n",
        "\n",
        "lassocv = LassoCV(alphas = None, cv = 10, max_iter = 100000, normalize = True)\n",
        "lassocv.fit(X_train, y_train)\n",
        "\n",
        "print(\"Optimal value using crossing validation:\")\n",
        "lasso.set_params(alpha = lassocv.alpha_)\n",
        "print(\"Optimized alpha:\", lassocv.alpha_)\n",
        "lasso.fit(X_train, y_train)\n",
        "print(\"mean squared error:\", mean_squared_error(y_test, lasso.predict(X_test)))"
      ],
      "execution_count": 14,
      "outputs": [
        {
          "output_type": "stream",
          "text": [
            "Optimal value using crossing validation:\n",
            "Optimized alpha: 2.2410206769492604\n",
            "mean squared error: 111160.39367053009\n"
          ],
          "name": "stdout"
        }
      ]
    },
    {
      "cell_type": "code",
      "metadata": {
        "id": "IXKD0LhqMO3R",
        "colab_type": "code",
        "colab": {
          "base_uri": "https://localhost:8080/",
          "height": 340
        },
        "outputId": "49075928-fc1d-46fd-a527-c153beb93299"
      },
      "source": [
        "print(\"Pridictors left in the optimal model after cross validation:\")\n",
        "print(pd.Series(lasso.coef_, index=X.columns))\n",
        "print(\"6 pridictros left for the optimal model\")"
      ],
      "execution_count": 15,
      "outputs": [
        {
          "output_type": "stream",
          "text": [
            "Pridictors left in the optimal model after cross validation:\n",
            "AtBat      0.000000\n",
            "Hits       0.951516\n",
            "HmRun      0.000000\n",
            "Runs       0.000000\n",
            "RBI        0.402763\n",
            "Walks      2.774631\n",
            "Years      0.000000\n",
            "CAtBat     0.000000\n",
            "CHits      0.000000\n",
            "CHmRun     0.268635\n",
            "CRuns      0.000000\n",
            "CRBI       0.492185\n",
            "CWalks     0.000000\n",
            "PutOuts    0.394770\n",
            "Assists    0.000000\n",
            "Errors    -0.000000\n",
            "dtype: float64\n",
            "6 pridictros left for the optimal model\n"
          ],
          "name": "stdout"
        }
      ]
    },
    {
      "cell_type": "markdown",
      "metadata": {
        "id": "NbNblmgSOppa",
        "colab_type": "text"
      },
      "source": [
        "## Ridge Regression"
      ]
    },
    {
      "cell_type": "code",
      "metadata": {
        "id": "Fcra1WL-MTFD",
        "colab_type": "code",
        "colab": {
          "base_uri": "https://localhost:8080/",
          "height": 316
        },
        "outputId": "adef67b5-6682-4849-9127-cbd34cdc5882"
      },
      "source": [
        "ridge = Ridge(normalize = True)\n",
        "coefs2 = []\n",
        "\n",
        "for a in alphas:\n",
        "  ridge.set_params(alpha = a)\n",
        "  ridge.fit(X, y)\n",
        "  coefs2.append(ridge.coef_)\n",
        "\n",
        "ax2 = plt.gca()\n",
        "ax2.plot(alphas, coefs2)\n",
        "ax2.set_xscale('log')\n",
        "plt.axis('tight')\n",
        "plt.xlabel('alpha')\n",
        "plt.ylabel('weights')\n",
        "plt.title('Coefficient Trajectories for Ridge Regression')"
      ],
      "execution_count": 16,
      "outputs": [
        {
          "output_type": "execute_result",
          "data": {
            "text/plain": [
              "Text(0.5, 1.0, 'Coefficient Trajectories for Ridge Regression')"
            ]
          },
          "metadata": {
            "tags": []
          },
          "execution_count": 16
        },
        {
          "output_type": "display_data",
          "data": {
            "image/png": "[encoded data removed]",
            "text/plain": [
              "<Figure size 432x288 with 1 Axes>"
            ]
          },
          "metadata": {
            "tags": [],
            "needs_background": "light"
          }
        }
      ]
    },
    {
      "cell_type": "code",
      "metadata": {
        "id": "c4t3vMIOPcl9",
        "colab_type": "code",
        "colab": {
          "base_uri": "https://localhost:8080/",
          "height": 374
        },
        "outputId": "68b6c212-449f-4699-cce4-2a07184fb7ad"
      },
      "source": [
        "ridgecv = RidgeCV(alphas = alphas, normalize = True)\n",
        "ridgecv.fit(X_train, y_train)\n",
        "print(\"Optimal value using crossing validation:\")\n",
        "print(\"Optimized Alpha = \", ridgecv.alpha_)\n",
        "ridge2 = Ridge(alpha = ridgecv.alpha_, normalize = True)\n",
        "ridge2.fit(X_train, y_train)\n",
        "print(\"Mean Squared Error:\", mean_squared_error(y_test, ridge2.predict(X_test)))\n",
        "print(\"Best model Coefficients:\")\n",
        "pd.Series(ridge2.coef_, index = X.columns)"
      ],
      "execution_count": 17,
      "outputs": [
        {
          "output_type": "stream",
          "text": [
            "Optimal value using crossing validation:\n",
            "Optimized Alpha =  0.5153890806977096\n",
            "Mean Squared Error: 104870.40960609083\n",
            "Best model Coefficients:\n"
          ],
          "name": "stdout"
        },
        {
          "output_type": "execute_result",
          "data": {
            "text/plain": [
              "AtBat     -0.055220\n",
              "Hits       0.863418\n",
              "HmRun     -0.439543\n",
              "Runs       0.680945\n",
              "RBI        1.514894\n",
              "Walks      2.062857\n",
              "Years      0.371970\n",
              "CAtBat     0.006088\n",
              "CHits      0.052720\n",
              "CHmRun     0.523275\n",
              "CRuns      0.109405\n",
              "CRBI       0.130584\n",
              "CWalks     0.100335\n",
              "PutOuts    0.308959\n",
              "Assists    0.013252\n",
              "Errors     0.165823\n",
              "dtype: float64"
            ]
          },
          "metadata": {
            "tags": []
          },
          "execution_count": 17
        }
      ]
    },
    {
      "cell_type": "markdown",
      "metadata": {
        "id": "eXfpBRBcWQ8U",
        "colab_type": "text"
      },
      "source": [
        "## 2. Short Answer\n",
        "\n",
        "Bias-variance tradeoff is the property that models with a lower bias in parameter estimation have a higher viariance of the parameter estimates across samples and vice versa. \n",
        "\n",
        "Regularization such as LASSO and Ridge regression helps the model to prevent from overfitting by neglating of minizing the effect of predictor clumns with large outliers, by panalizing their regression coefficients.\n",
        "\n",
        "In LASSO regression, when alpha is small, the model is overfitting and leads to high variance since every predictor are counted in the model. While the alpha is large, almost all predictors turn to 0 and the bias is high in the model."
      ]
    },
    {
      "cell_type": "code",
      "metadata": {
        "id": "iZBkUhDaWF7k",
        "colab_type": "code",
        "colab": {}
      },
      "source": [
        ""
      ],
      "execution_count": 17,
      "outputs": []
    }
  ]
}